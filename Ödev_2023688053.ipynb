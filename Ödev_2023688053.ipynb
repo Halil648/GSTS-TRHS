{
  "nbformat": 4,
  "nbformat_minor": 0,
  "metadata": {
    "colab": {
      "provenance": [],
      "gpuType": "V28"
    },
    "kernelspec": {
      "name": "python3",
      "display_name": "Python 3"
    },
    "language_info": {
      "name": "python"
    },
    "accelerator": "TPU"
  },
  "cells": [
    {
      "cell_type": "code",
      "execution_count": 3,
      "metadata": {
        "colab": {
          "base_uri": "https://localhost:8080/",
          "height": 530
        },
        "id": "Vdqzs4-uamGD",
        "outputId": "6f6e2c7b-5713-4130-b77f-7e89b633a8ae"
      },
      "outputs": [
        {
          "output_type": "error",
          "ename": "ImportError",
          "evalue": "No module named 'cv2'",
          "traceback": [
            "\u001b[0;31m---------------------------------------------------------------------------\u001b[0m",
            "\u001b[0;31mImportError\u001b[0m                               Traceback (most recent call last)",
            "\u001b[0;32m<ipython-input-3-170dd4ea572e>\u001b[0m in \u001b[0;36m<cell line: 0>\u001b[0;34m()\u001b[0m\n\u001b[0;32m----> 1\u001b[0;31m \u001b[0;32mimport\u001b[0m \u001b[0mcv2\u001b[0m\u001b[0;34m\u001b[0m\u001b[0;34m\u001b[0m\u001b[0m\n\u001b[0m\u001b[1;32m      2\u001b[0m \u001b[0;32mimport\u001b[0m \u001b[0mnumpy\u001b[0m \u001b[0;32mas\u001b[0m \u001b[0mnp\u001b[0m\u001b[0;34m\u001b[0m\u001b[0;34m\u001b[0m\u001b[0m\n\u001b[1;32m      3\u001b[0m \u001b[0;34m\u001b[0m\u001b[0m\n\u001b[1;32m      4\u001b[0m \u001b[0;31m# 1. Resim Okuma\u001b[0m\u001b[0;34m\u001b[0m\u001b[0;34m\u001b[0m\u001b[0m\n\u001b[1;32m      5\u001b[0m \u001b[0;31m# para.png dosyasını renkli olarak, BGR formatında okuyunuz.\u001b[0m\u001b[0;34m\u001b[0m\u001b[0;34m\u001b[0m\u001b[0m\n",
            "\u001b[0;32m/usr/local/lib/python3.11/dist-packages/google/colab/_import_hooks/_cv2.py\u001b[0m in \u001b[0;36mload_module\u001b[0;34m(self, name)\u001b[0m\n\u001b[1;32m     75\u001b[0m     \u001b[0mpreviously_loaded\u001b[0m \u001b[0;34m=\u001b[0m \u001b[0mname\u001b[0m \u001b[0;32min\u001b[0m \u001b[0msys\u001b[0m\u001b[0;34m.\u001b[0m\u001b[0mmodules\u001b[0m\u001b[0;34m\u001b[0m\u001b[0;34m\u001b[0m\u001b[0m\n\u001b[1;32m     76\u001b[0m \u001b[0;34m\u001b[0m\u001b[0m\n\u001b[0;32m---> 77\u001b[0;31m     \u001b[0mmodule_info\u001b[0m \u001b[0;34m=\u001b[0m \u001b[0mimp\u001b[0m\u001b[0;34m.\u001b[0m\u001b[0mfind_module\u001b[0m\u001b[0;34m(\u001b[0m\u001b[0mname\u001b[0m\u001b[0;34m,\u001b[0m \u001b[0mself\u001b[0m\u001b[0;34m.\u001b[0m\u001b[0mpath\u001b[0m\u001b[0;34m)\u001b[0m\u001b[0;34m\u001b[0m\u001b[0;34m\u001b[0m\u001b[0m\n\u001b[0m\u001b[1;32m     78\u001b[0m     \u001b[0mcv_module\u001b[0m \u001b[0;34m=\u001b[0m \u001b[0mimp\u001b[0m\u001b[0;34m.\u001b[0m\u001b[0mload_module\u001b[0m\u001b[0;34m(\u001b[0m\u001b[0mname\u001b[0m\u001b[0;34m,\u001b[0m \u001b[0;34m*\u001b[0m\u001b[0mmodule_info\u001b[0m\u001b[0;34m)\u001b[0m\u001b[0;34m\u001b[0m\u001b[0;34m\u001b[0m\u001b[0m\n\u001b[1;32m     79\u001b[0m \u001b[0;34m\u001b[0m\u001b[0m\n",
            "\u001b[0;32m/usr/lib/python3.11/imp.py\u001b[0m in \u001b[0;36mfind_module\u001b[0;34m(name, path)\u001b[0m\n\u001b[1;32m    295\u001b[0m         \u001b[0;32mbreak\u001b[0m  \u001b[0;31m# Break out of outer loop when breaking out of inner loop.\u001b[0m\u001b[0;34m\u001b[0m\u001b[0;34m\u001b[0m\u001b[0m\n\u001b[1;32m    296\u001b[0m     \u001b[0;32melse\u001b[0m\u001b[0;34m:\u001b[0m\u001b[0;34m\u001b[0m\u001b[0;34m\u001b[0m\u001b[0m\n\u001b[0;32m--> 297\u001b[0;31m         \u001b[0;32mraise\u001b[0m \u001b[0mImportError\u001b[0m\u001b[0;34m(\u001b[0m\u001b[0m_ERR_MSG\u001b[0m\u001b[0;34m.\u001b[0m\u001b[0mformat\u001b[0m\u001b[0;34m(\u001b[0m\u001b[0mname\u001b[0m\u001b[0;34m)\u001b[0m\u001b[0;34m,\u001b[0m \u001b[0mname\u001b[0m\u001b[0;34m=\u001b[0m\u001b[0mname\u001b[0m\u001b[0;34m)\u001b[0m\u001b[0;34m\u001b[0m\u001b[0;34m\u001b[0m\u001b[0m\n\u001b[0m\u001b[1;32m    298\u001b[0m \u001b[0;34m\u001b[0m\u001b[0m\n\u001b[1;32m    299\u001b[0m     \u001b[0mencoding\u001b[0m \u001b[0;34m=\u001b[0m \u001b[0;32mNone\u001b[0m\u001b[0;34m\u001b[0m\u001b[0;34m\u001b[0m\u001b[0m\n",
            "\u001b[0;31mImportError\u001b[0m: No module named 'cv2'",
            "",
            "\u001b[0;31m---------------------------------------------------------------------------\u001b[0;32m\nNOTE: If your import is failing due to a missing package, you can\nmanually install dependencies using either !pip or !apt.\n\nTo view examples of installing some common dependencies, click the\n\"Open Examples\" button below.\n\u001b[0;31m---------------------------------------------------------------------------\u001b[0m\n"
          ],
          "errorDetails": {
            "actions": [
              {
                "action": "open_url",
                "actionText": "Open Examples",
                "url": "/notebooks/snippets/importing_libraries.ipynb"
              }
            ]
          }
        }
      ],
      "source": [
        "import cv2\n",
        "import numpy as np\n",
        "\n",
        "# 1. Resim Okuma\n",
        "# para.png dosyasını renkli olarak, BGR formatında okuyunuz.\n",
        "image = cv2.imread('para.png')\n",
        "\n",
        "# Resmin başarıyla yüklenip yüklenmediğini kontrol edin\n",
        "if image is None:\n",
        "    print(\"Resim yüklenemedi. Lütfen dosya yolunu kontrol edin.\")\n",
        "    exit()\n",
        "\n",
        "# 2. Renk Dönüşümü (BGR'den RGB'ye)\n",
        "# Okuduğunuz resmi BGR formatından RGB formatına çeviriniz.\n",
        "rgb_image = cv2.cvtColor(image, cv2.COLOR_BGR2RGB)\n",
        "\n",
        "# RGB formatındaki resmi imshow ile ekranda gösteriniz.\n",
        "cv2.imshow('RGB Resim', rgb_image)\n",
        "cv2.waitKey(0)\n",
        "cv2.destroyAllWindows()\n",
        "\n",
        "# 3. Gri Tonlama\n",
        "# RGB formatındaki resmi gri tona (grayscale) çeviriniz.\n",
        "gray_image = cv2.cvtColor(rgb_image, cv2.COLOR_RGB2GRAY)\n",
        "\n",
        "# Gri tonlamalı resmi imshow ile ekranda gösteriniz.\n",
        "cv2.imshow('Gri Tonlamalı Resim', gray_image)\n",
        "cv2.waitKey(0)\n",
        "cv2.destroyAllWindows()\n",
        "\n",
        "# 4. Gauss Bulanıklaştırma\n",
        "# Gri tonlamalı resme Gauss Kernel uygulayarak resmi bulanıklaştırınız.\n",
        "blurred_image = cv2.GaussianBlur(gray_image, (5, 5), 0)\n",
        "\n",
        "# 5. Eşikleme (Threshold) Uygulaması\n",
        "# Bulanıklaştırılmış resme eşikleme uygulayarak binary (ikili) resim elde ediniz.\n",
        "_, binary_image = cv2.threshold(blurred_image, 127, 255, cv2.THRESH_BINARY_INV)\n",
        "\n",
        "# Oluşan binary resmi imshow ile ekranda gösteriniz.\n",
        "cv2.imshow('Binary Resim', binary_image)\n",
        "cv2.waitKey(0)\n",
        "cv2.destroyAllWindows()\n",
        "\n",
        "# 6. Canny Kenar Bulma\n",
        "# Eşiklenmiş binary resimde Canny kenar bulma metodunu uygulayınız.\n",
        "edges = cv2.Canny(binary_image, 100, 200)\n",
        "\n",
        "# Kenarların bulunduğu resmi imshow ile ekranda gösteriniz.\n",
        "cv2.imshow('Kenarlar', edges)\n",
        "cv2.waitKey(0)\n",
        "cv2.destroyAllWindows()\n",
        "\n",
        "# 7. Kontur Tespiti ve Çizim İşlemleri\n",
        "# Kenarların bulunduğu resimde konturları tespit ediniz.\n",
        "contours, _ = cv2.findContours(edges, cv2.RETR_EXTERNAL, cv2.CHAIN_APPROX_SIMPLE)\n",
        "\n",
        "# Bulunan konturlar üzerinde işlemler gerçekleştirin\n",
        "for contour in contours:\n",
        "    # Konturun alanını hesapla (küçük konturları filtrelemek için)\n",
        "    area = cv2.contourArea(contour)\n",
        "    if area < 100:  # Küçük konturları görmezden gel\n",
        "        continue\n",
        "\n",
        "    # Resim içerisindeki paraların etrafına kırmızı renkte daire çizin.\n",
        "    ((x, y), radius) = cv2.minEnclosingCircle(contour)\n",
        "    center = (int(x), int(y))\n",
        "    radius = int(radius)\n",
        "    cv2.circle(rgb_image, center, radius, (255, 0, 0), 2)\n",
        "\n",
        "    # Paraları çevreleyen bounding box (ya da bounding rectangle)’ları yeşil renkle çizin.\n",
        "    x, y, w, h = cv2.boundingRect(contour)\n",
        "    cv2.rectangle(rgb_image, (x, y), (x + w, y + h), (0, 255, 0), 2)\n",
        "\n",
        "# Sonuç resmini göster\n",
        "cv2.imshow('Konturlu Resim', rgb_image)\n",
        "cv2.waitKey(0)\n",
        "cv2.destroyAllWindows()\n"
      ]
    }
  ]
}